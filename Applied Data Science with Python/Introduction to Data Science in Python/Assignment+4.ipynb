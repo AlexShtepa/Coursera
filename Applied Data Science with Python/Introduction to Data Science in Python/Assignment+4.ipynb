{
 "cells": [
  {
   "cell_type": "markdown",
   "metadata": {},
   "source": [
    "---\n",
    "\n",
    "_You are currently looking at **version 1.1** of this notebook. To download notebooks and datafiles, as well as get help on Jupyter notebooks in the Coursera platform, visit the [Jupyter Notebook FAQ](https://www.coursera.org/learn/python-data-analysis/resources/0dhYG) course resource._\n",
    "\n",
    "---"
   ]
  },
  {
   "cell_type": "code",
   "execution_count": 19,
   "metadata": {
    "collapsed": true
   },
   "outputs": [],
   "source": [
    "import pandas as pd\n",
    "import numpy as np\n",
    "from scipy.stats import ttest_ind"
   ]
  },
  {
   "cell_type": "markdown",
   "metadata": {},
   "source": [
    "# Assignment 4 - Hypothesis Testing\n",
    "This assignment requires more individual learning than previous assignments - you are encouraged to check out the [pandas documentation](http://pandas.pydata.org/pandas-docs/stable/) to find functions or methods you might not have used yet, or ask questions on [Stack Overflow](http://stackoverflow.com/) and tag them as pandas and python related. And of course, the discussion forums are open for interaction with your peers and the course staff.\n",
    "\n",
    "Definitions:\n",
    "* A _quarter_ is a specific three month period, Q1 is January through March, Q2 is April through June, Q3 is July through September, Q4 is October through December.\n",
    "* A _recession_ is defined as starting with two consecutive quarters of GDP decline, and ending with two consecutive quarters of GDP growth.\n",
    "* A _recession bottom_ is the quarter within a recession which had the lowest GDP.\n",
    "* A _university town_ is a city which has a high percentage of university students compared to the total population of the city.\n",
    "\n",
    "**Hypothesis**: University towns have their mean housing prices less effected by recessions. Run a t-test to compare the ratio of the mean price of houses in university towns the quarter before the recession starts compared to the recession bottom. (`price_ratio=quarter_before_recession/recession_bottom`)\n",
    "\n",
    "The following data files are available for this assignment:\n",
    "* From the [Zillow research data site](http://www.zillow.com/research/data/) there is housing data for the United States. In particular the datafile for [all homes at a city level](http://files.zillowstatic.com/research/public/City/City_Zhvi_AllHomes.csv), ```City_Zhvi_AllHomes.csv```, has median home sale prices at a fine grained level.\n",
    "* From the Wikipedia page on college towns is a list of [university towns in the United States](https://en.wikipedia.org/wiki/List_of_college_towns#College_towns_in_the_United_States) which has been copy and pasted into the file ```university_towns.txt```.\n",
    "* From Bureau of Economic Analysis, US Department of Commerce, the [GDP over time](http://www.bea.gov/national/index.htm#gdp) of the United States in current dollars (use the chained value in 2009 dollars), in quarterly intervals, in the file ```gdplev.xls```. For this assignment, only look at GDP data from the first quarter of 2000 onward.\n",
    "\n",
    "Each function in this assignment below is worth 10%, with the exception of ```run_ttest()```, which is worth 50%."
   ]
  },
  {
   "cell_type": "code",
   "execution_count": 20,
   "metadata": {
    "collapsed": true
   },
   "outputs": [],
   "source": [
    "# Use this dictionary to map state names to two letter acronyms\n",
    "states = {'OH': 'Ohio', 'KY': 'Kentucky', 'AS': 'American Samoa', 'NV': 'Nevada', 'WY': 'Wyoming', 'NA': 'National', 'AL': 'Alabama', 'MD': 'Maryland', 'AK': 'Alaska', 'UT': 'Utah', 'OR': 'Oregon', 'MT': 'Montana', 'IL': 'Illinois', 'TN': 'Tennessee', 'DC': 'District of Columbia', 'VT': 'Vermont', 'ID': 'Idaho', 'AR': 'Arkansas', 'ME': 'Maine', 'WA': 'Washington', 'HI': 'Hawaii', 'WI': 'Wisconsin', 'MI': 'Michigan', 'IN': 'Indiana', 'NJ': 'New Jersey', 'AZ': 'Arizona', 'GU': 'Guam', 'MS': 'Mississippi', 'PR': 'Puerto Rico', 'NC': 'North Carolina', 'TX': 'Texas', 'SD': 'South Dakota', 'MP': 'Northern Mariana Islands', 'IA': 'Iowa', 'MO': 'Missouri', 'CT': 'Connecticut', 'WV': 'West Virginia', 'SC': 'South Carolina', 'LA': 'Louisiana', 'KS': 'Kansas', 'NY': 'New York', 'NE': 'Nebraska', 'OK': 'Oklahoma', 'FL': 'Florida', 'CA': 'California', 'CO': 'Colorado', 'PA': 'Pennsylvania', 'DE': 'Delaware', 'NM': 'New Mexico', 'RI': 'Rhode Island', 'MN': 'Minnesota', 'VI': 'Virgin Islands', 'NH': 'New Hampshire', 'MA': 'Massachusetts', 'GA': 'Georgia', 'ND': 'North Dakota', 'VA': 'Virginia'}"
   ]
  },
  {
   "cell_type": "code",
   "execution_count": 21,
   "metadata": {
    "collapsed": true,
    "umich_part_id": "021",
    "umich_partlist_id": "004"
   },
   "outputs": [],
   "source": [
    "def get_list_of_university_towns():\n",
    "    '''Returns a DataFrame of towns and the states they are in from the \n",
    "    university_towns.txt list. The format of the DataFrame should be:\n",
    "    DataFrame( [ [\"Michigan\", \"Ann Arbor\"], [\"Michigan\", \"Yipsilanti\"] ], \n",
    "    columns=[\"State\", \"RegionName\"]  )\n",
    "    \n",
    "    The following cleaning needs to be done:\n",
    "\n",
    "    1. For \"State\", removing characters from \"[\" to the end.\n",
    "    2. For \"RegionName\", when applicable, removing every character from \" (\" to the end.\n",
    "    3. Depending on how you read the data, you may need to remove newline character '\\n'. '''\n",
    "    \n",
    "    raw_data = pd.read_table('university_towns.txt', names=['Raw data'])\n",
    "\n",
    "    temp_univ = []\n",
    "    for i in raw_data.index:\n",
    "        if raw_data.iloc[i]['Raw data'][-6:] == '[edit]':\n",
    "            state = raw_data.iloc[i]['Raw data'][:-6]\n",
    "        elif '(' in raw_data.iloc[i]['Raw data']:\n",
    "            RegionName = raw_data.iloc[i]['Raw data'][:(raw_data.iloc[i]['Raw data'].index('(')-1)]\n",
    "            temp_univ.append([state, RegionName])\n",
    "        else:\n",
    "            RegionName = raw_data.iloc[i]['Raw data'].rstrip()\n",
    "            temp_univ.append([state, RegionName])\n",
    "            \n",
    "    univ = pd.DataFrame(temp_univ, columns=['State','RegionName'])\n",
    "\n",
    "    return univ"
   ]
  },
  {
   "cell_type": "code",
   "execution_count": 22,
   "metadata": {
    "collapsed": true,
    "umich_part_id": "022",
    "umich_partlist_id": "004"
   },
   "outputs": [],
   "source": [
    "def get_recession_start():\n",
    "    '''Returns the year and quarter of the recession start time as a \n",
    "    string value in a format such as 2005q3'''\n",
    "    \n",
    "    gdp = pd.read_excel('gdplev.xls', usecols=[4,6], skiprows=219, names=['Year_Q','GDP'])\n",
    "    \n",
    "    for i in range(2,len(gdp.index)):\n",
    "        #print(gdp['Year_Q'][i-2],'-', gdp['GDP'][i-2],'  ', \n",
    "        #      gdp['Year_Q'][i-1],'-', gdp['GDP'][i-1],'  ', \n",
    "        #      gdp['Year_Q'][i],'-', gdp['GDP'][i])\n",
    "        \n",
    "        if gdp['GDP'][i-2] > gdp['GDP'][i-1] > gdp['GDP'][i]:\n",
    "            #print('---',gdp['Year_Q'][i-1],'---')\n",
    "            return gdp['Year_Q'][i-1]"
   ]
  },
  {
   "cell_type": "code",
   "execution_count": 23,
   "metadata": {
    "collapsed": true,
    "umich_part_id": "023",
    "umich_partlist_id": "004"
   },
   "outputs": [],
   "source": [
    "def get_recession_end():\n",
    "    '''Returns the year and quarter of the recession end time as a \n",
    "    string value in a format such as 2005q3'''\n",
    "    \n",
    "    gdp = pd.read_excel('gdplev.xls', usecols=[4,6], skiprows=219, names=['Year_Q','GDP'])\n",
    "    start = get_recession_start()\n",
    "    \n",
    "    for i in range(gdp.index[gdp['Year_Q'] == start][0],len(gdp.index)):\n",
    "        #print(gdp['Year_Q'][i-2],'-', gdp['GDP'][i-2],'  ', \n",
    "        #      gdp['Year_Q'][i-1],'-', gdp['GDP'][i-1],'  ', \n",
    "        #      gdp['Year_Q'][i],'-', gdp['GDP'][i])\n",
    "        \n",
    "        if gdp['GDP'][i-2] < gdp['GDP'][i-1] < gdp['GDP'][i]:\n",
    "            #print('---',gdp['Year_Q'][i],'---')\n",
    "            return gdp['Year_Q'][i]"
   ]
  },
  {
   "cell_type": "code",
   "execution_count": 24,
   "metadata": {
    "collapsed": true,
    "umich_part_id": "024",
    "umich_partlist_id": "004"
   },
   "outputs": [],
   "source": [
    "def get_recession_bottom():\n",
    "    \n",
    "    gdp = pd.read_excel('gdplev.xls', usecols=[4,6], skiprows=219, names=['Year_Q','GDP'])\n",
    "    start = get_recession_start()\n",
    "    end = get_recession_end()\n",
    "    \n",
    "    recession = gdp.loc[gdp.index[gdp['Year_Q'] == start][0]:\n",
    "                        gdp.index[gdp['Year_Q'] == end][0]].set_index('Year_Q')\n",
    "\n",
    "    return recession['GDP'].idxmin()"
   ]
  },
  {
   "cell_type": "code",
   "execution_count": 25,
   "metadata": {
    "umich_part_id": "025",
    "umich_partlist_id": "004"
   },
   "outputs": [],
   "source": [
    "def convert_housing_data_to_quarters():\n",
    "    '''Converts the housing data to quarters and returns it as mean \n",
    "    values in a dataframe. This dataframe should be a dataframe with\n",
    "    columns for 2000q1 through 2016q3, and should have a multi-index\n",
    "    in the shape of [\"State\",\"RegionName\"].\n",
    "    \n",
    "    Note: Quarters are defined in the assignment description, they are\n",
    "    not arbitrary three month periods.\n",
    "    \n",
    "    The resulting dataframe should have 67 columns, and 10,730 rows.\n",
    "    '''\n",
    "    #create and clean data\n",
    "    housing_raw = pd.read_csv('City_Zhvi_AllHomes.csv')\n",
    "    hm = housing_raw.drop(housing_raw.columns[3:51],axis=1).drop(housing_raw.columns[0],axis=1)\n",
    "    hm['State'] = hm['State'].map(states)\n",
    "    hm = hm.set_index(['State', 'RegionName'])\n",
    "    \n",
    "    #new columns in required format\n",
    "    y = list(map(str, range(2000,2017)))\n",
    "    q = ['q1','q2','q3','q4']\n",
    "    new_columns = []\n",
    "    for i in y:\n",
    "        for j in q:\n",
    "            new_columns.append(i+j)\n",
    "    new_columns = new_columns[:67]\n",
    "    \n",
    "    #calculating values for new columns\n",
    "    j=0\n",
    "    for i in range(0, len(hm.columns), 3):\n",
    "        hm[new_columns[j]] = hm[hm.columns[i:i+3]].mean(axis=1)\n",
    "        j+=1\n",
    "\n",
    "    hm = hm[new_columns]\n",
    "\n",
    "    return hm"
   ]
  },
  {
   "cell_type": "code",
   "execution_count": 27,
   "metadata": {
    "scrolled": true,
    "umich_part_id": "026",
    "umich_partlist_id": "004"
   },
   "outputs": [
    {
     "data": {
      "text/plain": [
       "(True, 0.0062357516955056733, 'university town')"
      ]
     },
     "execution_count": 27,
     "metadata": {},
     "output_type": "execute_result"
    }
   ],
   "source": [
    "def run_ttest():\n",
    "    '''First creates new data showing the decline or growth of housing prices\n",
    "    between the recession start and the recession bottom. Then runs a ttest\n",
    "    comparing the university town values to the non-university towns values, \n",
    "    return whether the alternative hypothesis (that the two groups are the same)\n",
    "    is true or not as well as the p-value of the confidence. \n",
    "    \n",
    "    Return the tuple (different, p, better) where different=True if the t-test is\n",
    "    True at a p<0.01 (we reject the null hypothesis), or different=False if \n",
    "    otherwise (we cannot reject the null hypothesis). The variable p should\n",
    "    be equal to the exact p value returned from scipy.stats.ttest_ind(). The\n",
    "    value for better should be either \"university town\" or \"non-university town\"\n",
    "    depending on which has a lower mean price ratio (which is equivilent to a\n",
    "    reduced market loss).'''\n",
    "    \n",
    "    univ_towns = get_list_of_university_towns().set_index(['State', 'RegionName'])\n",
    "    housing_data = convert_housing_data_to_quarters()\n",
    "    \n",
    "    housing_univ = pd.merge(univ_towns, housing_data, how='inner', left_index=True, right_index=True).dropna()\n",
    "    housing_non_univ = pd.merge(univ_towns, housing_data, how='outer', left_index=True, right_index=True).dropna()\n",
    "    \n",
    "    #get quarter before recession\n",
    "    year = int(get_recession_start()[:4])\n",
    "    q = int(get_recession_start()[-1:])\n",
    "    \n",
    "    if q in range(2,4):\n",
    "        q_before_recession = str(year)+'q'+str(q-1)\n",
    "    if q == 1:\n",
    "        q_before_recession = str(year-1)+'q'+str(q+3)\n",
    "\n",
    "    #another option - better :)\n",
    "    #q_before_recession = housing_data.columns[housing_data.columns.get_loc(get_recession_start()) - 1]\n",
    "        \n",
    "        \n",
    "    #price ratio\n",
    "    price_ratio_univ = housing_univ[q_before_recession] / housing_univ[get_recession_bottom()]\n",
    "    price_ratio_non_univ = housing_non_univ[q_before_recession] / housing_non_univ[get_recession_bottom()]\n",
    "    \n",
    "    #get p from ttest\n",
    "    p = ttest_ind(price_ratio_univ, price_ratio_non_univ)[1]\n",
    "    \n",
    "    #set different\n",
    "    if p < 0.01:\n",
    "        different = True\n",
    "    if p >= 0.01:\n",
    "        different = False\n",
    "        \n",
    "    #set better\n",
    "    if price_ratio_univ.mean() < price_ratio_non_univ.mean():\n",
    "        better = 'university town'\n",
    "    if price_ratio_univ.mean() > price_ratio_non_univ.mean():\n",
    "        better = 'non-university town'\n",
    "    \n",
    "\n",
    "    return (different, p, better)\n",
    "run_ttest()"
   ]
  },
  {
   "cell_type": "code",
   "execution_count": null,
   "metadata": {
    "collapsed": true
   },
   "outputs": [],
   "source": []
  }
 ],
 "metadata": {
  "coursera": {
   "course_slug": "python-data-analysis",
   "graded_item_id": "Il9Fx",
   "launcher_item_id": "TeDW0",
   "part_id": "WGlun"
  },
  "kernelspec": {
   "display_name": "Python 3",
   "language": "python",
   "name": "python3"
  },
  "language_info": {
   "codemirror_mode": {
    "name": "ipython",
    "version": 3
   },
   "file_extension": ".py",
   "mimetype": "text/x-python",
   "name": "python",
   "nbconvert_exporter": "python",
   "pygments_lexer": "ipython3",
   "version": "3.6.0"
  },
  "umich": {
   "id": "Assignment 4",
   "version": "1.1"
  }
 },
 "nbformat": 4,
 "nbformat_minor": 1
}
